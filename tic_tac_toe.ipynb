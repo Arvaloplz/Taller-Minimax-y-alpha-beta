{
  "nbformat": 4,
  "nbformat_minor": 0,
  "metadata": {
    "colab": {
      "name": "tic-tac-toe",
      "provenance": [],
      "collapsed_sections": [],
      "include_colab_link": true
    },
    "kernelspec": {
      "name": "python3",
      "display_name": "Python 3"
    },
    "language_info": {
      "name": "python"
    }
  },
  "cells": [
    {
      "cell_type": "markdown",
      "metadata": {
        "id": "view-in-github",
        "colab_type": "text"
      },
      "source": [
        "<a href=\"https://colab.research.google.com/github/Arvaloplz/Taller-Minimax-y-alpha-beta/blob/main/tic_tac_toe.ipynb\" target=\"_parent\"><img src=\"https://colab.research.google.com/assets/colab-badge.svg\" alt=\"Open In Colab\"/></a>"
      ]
    },
    {
      "cell_type": "markdown",
      "source": [
        "# Minimax y alpha-beta pruning para el juego del gato\n",
        "\n"
      ],
      "metadata": {
        "id": "vhDFfp-oSzuA"
      }
    },
    {
      "cell_type": "markdown",
      "source": [
        "<div>\n",
        "<center>\n",
        "<img src=\"https://upload.wikimedia.org/wikipedia/commons/thumb/3/32/Tic_tac_toe.svg/800px-Tic_tac_toe.svg.png\" width=\"200\"/>\n",
        "</center>\n",
        "</div>"
      ],
      "metadata": {
        "id": "0WM6v_8ur2Xh"
      }
    },
    {
      "cell_type": "markdown",
      "source": [
        "Definimos estados y acciones para el juego.\n",
        "\n",
        "Un estado (`State`) tendrá los siguientes atributos:\n",
        "\n",
        "* **square**: matriz que representa el tablero de juego\n",
        "* **next_player**: un carácter que representa al jugador que le toca jugar ('x', 'o') \n",
        "* **n_moves**: la cantidad de jugadas realizadas hasta el estado actual\n",
        "* **value**: valor del estado actual (será calculado por el algoritmo de búsqueda). \n",
        "\n",
        "En cuanto a las acciones(`Action`) simplemente indicarán la casilla `(i,j)` correspondiente a la siguiente jugada.\n",
        "\n"
      ],
      "metadata": {
        "id": "MdcSe94uS7oa"
      }
    },
    {
      "cell_type": "code",
      "source": [
        "class State: \n",
        "    def __init__(self, square, n_moves=0, next_player='x', pos_last_move=None):    \n",
        "        #state attributes\n",
        "        self.square = deepcopy(square)\n",
        "        self.next_player = next_player\n",
        "        self.n_moves = n_moves\n",
        "        self.pos_last_move = pos_last_move\n",
        "        self.value = None\n",
        "        self.marked= False\n",
        "        self.children= []\n",
        "\n",
        " \n",
        "    def get_actions(self):\n",
        "        actions = []\n",
        "        for i in range(3):\n",
        "          for j in range(3):\n",
        "            if self.square[i][j] == '-':\n",
        "              actions.append(Action(i,j))\n",
        "        return actions\n",
        " \n",
        "    def transition(self, action):\n",
        "        self.pos_last_move = (action.i,action.j)\n",
        "        self.square[action.i][action.j] = self.next_player\n",
        "        if self.next_player == 'x': self.next_player='o'\n",
        "        else: self.next_player = 'x'\n",
        "        self.n_moves += 1\n",
        " \n",
        "    # retorna al ganador de la partida (en caso de ser un estado final)\n",
        "    def get_winner(self):\n",
        "        if self.pos_last_move is None: return None\n",
        "        last_i, last_j = self.pos_last_move\n",
        "        symbol = self.square[last_i][last_j]\n",
        "        for case in range(4):\n",
        "          final = True\n",
        "\n",
        "          if case==0:\n",
        "            for j in range(0,3): #horizontal --\n",
        "              if symbol != self.square[last_i][j]: final=False\n",
        "          elif case==1:\n",
        "            for i in range(0,3): #vertival |\n",
        "              if symbol != self.square[i][last_j]: final=False\n",
        "          elif case==2 and last_i==last_j: #diagonal \\\n",
        "            for i in range(0,3):\n",
        "                j=i\n",
        "                if symbol != self.square[i][j]: final=False\n",
        "          elif case==3 and last_j==2-last_i: #diagonal /\n",
        "            for i in range(0,3):\n",
        "                j=2-i\n",
        "                if symbol != self.square[i][j]: final=False\n",
        "          else: final=False\n",
        "\n",
        "            \n",
        "          if final: return symbol\n",
        "        return None\n",
        " \n",
        "    def __copy__(self):\n",
        "        return type(self)(self.square, self.n_moves, self.next_player, self.pos_last_move)"
      ],
      "metadata": {
        "id": "bFEH-LVXTDt_"
      },
      "execution_count": null,
      "outputs": []
    },
    {
      "cell_type": "code",
      "execution_count": null,
      "metadata": {
        "id": "RGlTHeKYSswm"
      },
      "outputs": [],
      "source": [
        "import numpy as np\n",
        "from copy import copy, deepcopy\n",
        " \n",
        "class Action:\n",
        "    def __init__(self, i, j):\n",
        "        self.i=i\n",
        "        self.j=j\n",
        " \n",
        "    def __str__(self):\n",
        "        return str(self.i)+\",\"+str(self.j)"
      ]
    },
    {
      "cell_type": "markdown",
      "source": [
        "## Ejemplo para probar la representación"
      ],
      "metadata": {
        "id": "FimFpPhihBpQ"
      }
    },
    {
      "cell_type": "code",
      "source": [
        "square = [['-','-','-'],\n",
        "          ['-','-','-'],\n",
        "          ['-','-','-']]\n",
        "\n",
        "s=State(square)\n",
        "s.transition(Action(1,1))\n",
        "s.transition(Action(0,0))\n",
        "s.transition(Action(0,1))\n",
        "s.transition(Action(0,2))\n",
        "s.transition(Action(2,1))\n",
        " \n",
        "for line in s.square: print(line)\n",
        "\n",
        "print(\"\\nthe winner is\", s.get_winner())"
      ],
      "metadata": {
        "colab": {
          "base_uri": "https://localhost:8080/"
        },
        "id": "gEmKjt6gb5JU",
        "outputId": "44aea818-383f-4d88-e515-148b98ae0307"
      },
      "execution_count": null,
      "outputs": [
        {
          "output_type": "stream",
          "name": "stdout",
          "text": [
            "['o', 'x', 'o']\n",
            "['-', 'x', '-']\n",
            "['-', 'x', '-']\n",
            "\n",
            "the winner is x\n"
          ]
        }
      ]
    },
    {
      "cell_type": "markdown",
      "source": [
        "## Minimax\n",
        "\n",
        "Ahora implementaremos el **minimax**.\n",
        "\n",
        "El algoritmo minimax retorna la acción que genera el estado con un máximo **valor**\n",
        "\n",
        "Para calcular el valor de un estado:\n",
        "\n",
        "- Si le toca al jugador, el valor será igual al máximo valor de los estados hijos.\n",
        "\n",
        "- Si le toca al oponente, el valor será igual al mínimo valor de los estados hijos.\n",
        "\n",
        "Como se puede apreciar, la definción es **recursiva**, para calcular el valor de los estados de manera iterativa, realizaremos un recorrido post-order del árbol de búsqueda, es decir, comenzaremos por las hijos y luego pasaremos a los nodos padre (como en la figura).\n",
        "\n",
        "![image](https://i.imgur.com/MHRnqFH.png)\n",
        "\n",
        "En el código, observe que para realizar el post-order, necesitamos pasar dos veces por cada nodo, la **primera vez** lo marcamos y agregamos sus hijos (no se elimina el nodo). La **segunda pasada** se calcula el valor en función del valor de los hijos (min o max).\n"
      ],
      "metadata": {
        "id": "_Y68VLfaZu4W"
      }
    },
    {
      "cell_type": "code",
      "source": [
        "def iterative_minimax(state):\n",
        "  state = deepcopy(state)\n",
        "  jugador = state.next_player\n",
        "  stack = [state]\n",
        "\n",
        "  iter_counter = 0\n",
        "  while len(stack) > 0:\n",
        "    s = stack[-1] # no se elimina del stack\n",
        "\n",
        "    if s.marked == False: # primera visita\n",
        "      s.marked = True\n",
        "\n",
        "      if s.get_winner() is not None: continue # final state\n",
        "\n",
        "      iter_counter+=1\n",
        "      actions = s.get_actions()\n",
        "\n",
        "      for a in actions:\n",
        "        child = copy(s) # no copia los hijos del nodo\n",
        "        child.transition(a)\n",
        "        stack.append(child)\n",
        "\n",
        "        # se agrega el hijo a s\n",
        "        s.children.append(child)\n",
        "\n",
        "    else: # en la segunda visita calculamos el valor\n",
        "      if len(s.children) == 0: #final state\n",
        "        #en caso de ser estado final asignamos \n",
        "        #1 si gana el jugador, -1 si pierde y 0 si empatan\n",
        "        winner = s.get_winner()\n",
        "        s.value=0\n",
        "        if jugador == winner:\n",
        "          s.value=1\n",
        "        elif winner is not None:\n",
        "          s.value=-1\n",
        "\n",
        "      else: #not final state\n",
        "         # el valor se obtiene de los estados hijos\n",
        "         if jugador == s.next_player:\n",
        "           s.value = max([ss.value for ss in s.children])\n",
        "         else:\n",
        "           s.value = min([ss.value for ss in s.children])\n",
        "      stack.pop()\n",
        "\n",
        "  #retorna la lista de acciones con sus valores asociados\n",
        "  return [[ss.pos_last_move, ss.value] for ss in state.children], iter_counter\n",
        "     "
      ],
      "metadata": {
        "id": "Wwxz_JeTZMpt"
      },
      "execution_count": null,
      "outputs": []
    },
    {
      "cell_type": "markdown",
      "source": [
        "Ahora realizaremos una prueba. Inicalizamos un gato con ventaja para el jugador 'x'. "
      ],
      "metadata": {
        "id": "gEoLnsKvoyuK"
      }
    },
    {
      "cell_type": "code",
      "source": [
        "square = [['-','-','-'],\n",
        "          ['-','-','-'],\n",
        "          ['-','-','-']]\n",
        "\n",
        "s=State(square)\n",
        "s.transition(Action(1,1))\n",
        "s.transition(Action(0,0))\n",
        "s.transition(Action(0,1))\n",
        "for line in s.square: print(line)"
      ],
      "metadata": {
        "colab": {
          "base_uri": "https://localhost:8080/"
        },
        "id": "wsWbTgmagJpw",
        "outputId": "6c8c059c-1c4b-416f-ff5f-cd3853033c1a"
      },
      "execution_count": null,
      "outputs": [
        {
          "output_type": "stream",
          "name": "stdout",
          "text": [
            "['o', 'x', '-']\n",
            "['-', 'x', '-']\n",
            "['-', '-', '-']\n"
          ]
        }
      ]
    },
    {
      "cell_type": "markdown",
      "source": [
        "Tendrá opciones de empatar o ganar el jugador 'o' ?\n",
        "\n",
        "Veamos."
      ],
      "metadata": {
        "id": "_YKSYdzGo_4U"
      }
    },
    {
      "cell_type": "code",
      "source": [
        "actions, iters = iterative_minimax(s)\n",
        "\n",
        "print(\"jugador:\",s.next_player)\n",
        "print(\"valores para cada acción:\", actions)\n",
        "print(\"iterations:\", iters)"
      ],
      "metadata": {
        "colab": {
          "base_uri": "https://localhost:8080/"
        },
        "id": "ATR74hvMhVWg",
        "outputId": "9f658ea3-d441-44c0-8619-135fdb9ebffd"
      },
      "execution_count": null,
      "outputs": [
        {
          "output_type": "stream",
          "name": "stdout",
          "text": [
            "jugador: o\n",
            "valores para cada acción: [[(0, 2), -1], [(1, 0), -1], [(1, 2), -1], [(2, 0), -1], [(2, 1), 0], [(2, 2), -1]]\n",
            "iterations: 690\n"
          ]
        }
      ]
    },
    {
      "cell_type": "markdown",
      "source": [
        "Al lado de cada acción (del estado inicial) podemos ver el valor asociado al nodo hijo. Existe una acción (2,1) en la cuál el jugador 'o' tiene posibilidades de empatar.\n",
        "\n",
        "Realicémosla!"
      ],
      "metadata": {
        "id": "VG1SoPJfpJZe"
      }
    },
    {
      "cell_type": "code",
      "source": [
        "s.transition(Action(2,1))\n",
        "for line in s.square: print(line)"
      ],
      "metadata": {
        "colab": {
          "base_uri": "https://localhost:8080/"
        },
        "id": "qG7ej9DqpHqM",
        "outputId": "37133099-037a-4f11-8b18-9f84b63e0834"
      },
      "execution_count": null,
      "outputs": [
        {
          "output_type": "stream",
          "name": "stdout",
          "text": [
            "['o', 'x', '-']\n",
            "['-', 'x', '-']\n",
            "['-', 'o', '-']\n"
          ]
        }
      ]
    },
    {
      "cell_type": "markdown",
      "source": [
        "Haré una jugada \"mala\" de manera manual:"
      ],
      "metadata": {
        "id": "yppezc4bpvCK"
      }
    },
    {
      "cell_type": "code",
      "source": [
        "s.transition(Action(0,2))  # <--- jugada mala\n",
        "for line in s.square: print(line)"
      ],
      "metadata": {
        "colab": {
          "base_uri": "https://localhost:8080/"
        },
        "id": "fDaOLHLxpj7M",
        "outputId": "0a4a753a-856d-41fe-e0ae-ac0b91d21e8c"
      },
      "execution_count": null,
      "outputs": [
        {
          "output_type": "stream",
          "name": "stdout",
          "text": [
            "['o', 'x', 'x']\n",
            "['-', 'x', '-']\n",
            "['-', 'o', '-']\n"
          ]
        }
      ]
    },
    {
      "cell_type": "markdown",
      "source": [
        "Veamos qué nos dice el minimax"
      ],
      "metadata": {
        "id": "CV1YgYrup3Tv"
      }
    },
    {
      "cell_type": "code",
      "source": [
        "actions, iters = iterative_minimax(s)\n",
        "\n",
        "print(\"jugador:\",s.next_player)\n",
        "print(\"valores para cada acción:\", actions)\n",
        "print(\"iterations:\", iters)"
      ],
      "metadata": {
        "colab": {
          "base_uri": "https://localhost:8080/"
        },
        "id": "IZSwvFXAp0sx",
        "outputId": "fe716a47-b354-4516-a6c5-b7c6764c7df0"
      },
      "execution_count": null,
      "outputs": [
        {
          "output_type": "stream",
          "name": "stdout",
          "text": [
            "jugador: o\n",
            "valores para cada acción: [[(1, 0), -1], [(1, 2), -1], [(2, 0), 1], [(2, 2), -1]]\n",
            "iterations: 28\n"
          ]
        }
      ]
    },
    {
      "cell_type": "markdown",
      "source": [
        "Según minimax, si jugamos (2,0) ganaremos la partida!"
      ],
      "metadata": {
        "id": "JRk6Rz7ZqaJI"
      }
    },
    {
      "cell_type": "code",
      "source": [
        "s.transition(Action(2,0))\n",
        "for line in s.square: print(line)"
      ],
      "metadata": {
        "colab": {
          "base_uri": "https://localhost:8080/"
        },
        "id": "fK-bmJinp5S7",
        "outputId": "5d4f6888-0fb0-45c0-ebf1-95ae057c5484"
      },
      "execution_count": null,
      "outputs": [
        {
          "output_type": "stream",
          "name": "stdout",
          "text": [
            "['o', 'x', 'x']\n",
            "['-', 'x', '-']\n",
            "['o', 'o', '-']\n"
          ]
        }
      ]
    },
    {
      "cell_type": "markdown",
      "source": [
        "Lo ven?, el jugador 'x' ya no tiene posibilidades y se retira."
      ],
      "metadata": {
        "id": "ATE5uXsGqjHd"
      }
    },
    {
      "cell_type": "markdown",
      "source": [
        "## Poda alpha beta\n",
        "\n",
        "Para implementar la poda alpha-beta, incluiremos dos atributos a cada nodo:\n",
        "* $\\alpha$: una **cota inferior** para el máximo valor de los hijos (max >= $\\alpha$).\n",
        "* $\\beta$: una **cota superior** para el mínimo valor de los hijos  (min <= $\\beta$).\n",
        "\n",
        "Los hijos heredan los valores $\\alpha$ y $\\beta$ de sus padres.\n",
        "\n",
        "Cada vez que calculemos el valor de un nodo, revisaremos y actualizaremos los valores de $\\alpha$ o $\\beta$ del nodo padre. Los caso son los siguientes:\n",
        "\n",
        "* Si el padre es un nodo max, y el valor del nodo es mayor a $\\alpha$, actualizamos ($\\alpha=$ valor del nodo).\n",
        "\n",
        "* Si el padre es un nodo min, y el valor del nodo es menor a $\\beta$, actualizamos ($\\beta=$ valor del nodo).\n",
        "\n",
        "Además, cuando el valor $\\beta$ de un nodo sea menor o igual al $\\alpha$ de su padre, podremos descartar inmediatamente la rama. Lo mismo ocurre si el valor $\\alpha$ de un nodo es mayor o igual al $\\beta$ del padre."
      ],
      "metadata": {
        "id": "0Y1IETMbuNzu"
      }
    },
    {
      "cell_type": "code",
      "source": [
        "def iterative_alpha_beta(state):\n",
        "  state = deepcopy(state)\n",
        "  state.alpha = -np.inf\n",
        "  state.beta = np.inf\n",
        "  state.parent=None\n",
        "\n",
        "  jugador = state.next_player\n",
        "  stack = [state]\n",
        "\n",
        "  iter_counter = 0\n",
        "  while len(stack) > 0:\n",
        "    s = stack[-1] # no se elimina del stack\n",
        "\n",
        "    if s.marked == False: # primera visita\n",
        "      s.marked = True\n",
        "\n",
        "      #descarte de rama\n",
        "      if s.parent is not None and s.parent.parent is not None:\n",
        "        if jugador == s.next_player and s.parent.beta <= s.parent.parent.alpha: continue\n",
        "        if jugador != s.next_player and s.parent.alpha >= s.parent.parent.beta: continue\n",
        "\n",
        "      if s.get_winner() is not None: continue # final state\n",
        "\n",
        "      iter_counter+=1\n",
        "\n",
        "      actions = s.get_actions()\n",
        "\n",
        "      for a in actions:\n",
        "        child = copy(s) # no copia los hijos del nodo (copia valores de alpha y beta)\n",
        "        child.alpha=s.alpha; child.beta=s.beta\n",
        "        child.parent=s\n",
        "\n",
        "        child.transition(a)\n",
        "        stack.append(child)\n",
        "\n",
        "        # se agrega el hijo a s\n",
        "        s.children.append(child)\n",
        "\n",
        "    else: # en la segunda visita calculamos el valor\n",
        "      if len(s.children) == 0: #final state\n",
        "        #en caso de ser estado final asignamos \n",
        "        #1 si gana el jugador, -1 si pierde y 0 si empatan\n",
        "        winner = s.get_winner()\n",
        "        s.value=0\n",
        "        if jugador == winner:\n",
        "          s.value=1\n",
        "        elif winner is not None:\n",
        "          s.value=-1\n",
        "\n",
        "      else: #not final state\n",
        "         # el valor se obtiene de los estados hijos\n",
        "         if jugador == s.next_player:\n",
        "           s.value = max([ss.value for ss in s.children])\n",
        "         else:\n",
        "           s.value = min([ss.value for ss in s.children])\n",
        "\n",
        "      if jugador == s.next_player:\n",
        "        if s.parent is not None and s.value < s.parent.beta: s.parent.beta=s.value\n",
        "      else:\n",
        "        if s.parent is not None and s.value > s.parent.alpha: s.parent.alpha=s.value\n",
        "\n",
        "      stack.pop()\n",
        "\n",
        "  #retorna la lista de acciones con sus valores asociados\n",
        "  return [[ss.pos_last_move, ss.value] for ss in state.children], iter_counter\n",
        "     "
      ],
      "metadata": {
        "id": "84d_nhzAuP9i"
      },
      "execution_count": null,
      "outputs": []
    },
    {
      "cell_type": "markdown",
      "source": [
        "Hagamos unas pruebas con el tablero vacío."
      ],
      "metadata": {
        "id": "3nOIfKaK2z4E"
      }
    },
    {
      "cell_type": "code",
      "source": [
        "square = [['-','-','-'],\n",
        "          ['-','-','-'],\n",
        "          ['-','-','-']]\n",
        "\n",
        "s=State(square)\n",
        "for line in s.square: print(line)"
      ],
      "metadata": {
        "colab": {
          "base_uri": "https://localhost:8080/"
        },
        "id": "lgVdSX3XzG6H",
        "outputId": "4a159ac1-7288-4050-f287-7fa7974539c4"
      },
      "execution_count": null,
      "outputs": [
        {
          "output_type": "stream",
          "name": "stdout",
          "text": [
            "['-', '-', '-']\n",
            "['-', '-', '-']\n",
            "['-', '-', '-']\n"
          ]
        }
      ]
    },
    {
      "cell_type": "code",
      "source": [
        "actions, iters = iterative_alpha_beta(s)\n",
        "\n",
        "print(\"jugador:\",s.next_player)\n",
        "print(\"valores para cada acción:\", actions)\n",
        "print(\"iterations:\", iters)"
      ],
      "metadata": {
        "colab": {
          "base_uri": "https://localhost:8080/"
        },
        "id": "5gRw2dCDzKRU",
        "outputId": "d8458c65-4f0e-47d5-a984-2e62e9923b00"
      },
      "execution_count": null,
      "outputs": [
        {
          "output_type": "stream",
          "name": "stdout",
          "text": [
            "jugador: x\n",
            "valores para cada acción: [[(0, 0), 0], [(0, 1), 0], [(0, 2), 0], [(1, 0), 0], [(1, 1), 0], [(1, 2), 0], [(2, 0), 0], [(2, 1), 0], [(2, 2), 0]]\n",
            "iterations: 19327\n"
          ]
        }
      ]
    },
    {
      "cell_type": "markdown",
      "source": [
        "En sólo 19327 iteraciones obtenemos los valores de las acciones."
      ],
      "metadata": {
        "id": "QGQhUiJV23lF"
      }
    },
    {
      "cell_type": "code",
      "source": [
        "square = [['-','-','-'],\n",
        "          ['-','-','-'],\n",
        "          ['-','-','-']]\n",
        "\n",
        "s=State(square)\n",
        "for line in s.square: print(line)\n",
        "\n",
        "actions, iters = iterative_minimax(s)\n",
        "\n",
        "print(\"jugador:\",s.next_player)\n",
        "print(\"valores para cada acción:\", actions)\n",
        "print(\"iterations:\", iters)"
      ],
      "metadata": {
        "colab": {
          "base_uri": "https://localhost:8080/"
        },
        "id": "E8KXNY15zPM4",
        "outputId": "c55d1a6a-eaef-4bcf-c205-11069a971333"
      },
      "execution_count": null,
      "outputs": [
        {
          "output_type": "stream",
          "name": "stdout",
          "text": [
            "['-', '-', '-']\n",
            "['-', '-', '-']\n",
            "['-', '-', '-']\n",
            "jugador: x\n",
            "valores para cada acción: [[(0, 0), 0], [(0, 1), 0], [(0, 2), 0], [(1, 0), 0], [(1, 1), 0], [(1, 2), 0], [(2, 0), 0], [(2, 1), 0], [(2, 2), 0]]\n",
            "iterations: 340858\n"
          ]
        }
      ]
    },
    {
      "cell_type": "markdown",
      "source": [
        "Comparadas con las 340858 de minimax!"
      ],
      "metadata": {
        "id": "_AvvIXOZ28cF"
      }
    },
    {
      "cell_type": "markdown",
      "source": [
        "# Actividad\n",
        "\n",
        "Implemente un juego en python usando grafos (estados y acciones).\n",
        "\n",
        "Aplique los algoritmos minimax y alpha-beta para ver que ocurre.\n",
        "\n",
        "Algunas ideas:\n",
        "\n",
        "- [Puzzles de ajedrez](https://chesspuzzle.net/)\n",
        "- Juego de los 15 palitos ([Nim](https://es.wikipedia.org/wiki/Nim_(juego)#The_subtraction_game))\n",
        "- Damas con tablero reducido\n",
        "- [Go](https://es.wikipedia.org/wiki/Go)\n",
        "- [Conecta 4](https://es.wikipedia.org/wiki/Conecta_4)\n",
        "- [Aquí](https://en.wikipedia.org/wiki/Solved_game) pueden ver más juegos\n",
        "\n",
        "No es necesario llegar hasta un estado final, puede *inventar una heurística* para evaluar estados no finales y limitar la altura del árbol.\n",
        "\n",
        "Por ejemplo, cantidad de piezas o puntaje de piezas (damas o ajedrez), cantidad de piezas en linea (conecta 4), etc... \n"
      ],
      "metadata": {
        "id": "JzUkPvUm3Ctn"
      }
    },
    {
      "cell_type": "code",
      "source": [
        ""
      ],
      "metadata": {
        "id": "TGQ-tJa8vRiO"
      },
      "execution_count": null,
      "outputs": []
    }
  ]
}